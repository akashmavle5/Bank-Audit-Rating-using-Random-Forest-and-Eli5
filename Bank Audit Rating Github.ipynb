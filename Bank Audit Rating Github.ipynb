{
 "cells": [
  {
   "cell_type": "markdown",
   "metadata": {},
   "source": [
    "# Framing the Problem"
   ]
  },
  {
   "cell_type": "markdown",
   "metadata": {},
   "source": [
    "One of the major reason why the Canadian banking system continues to thrive despite constant changes in financial innovations and technological integrations are due to the impact of OSFI's (Office of the Superintendent of Financial Institutions) stringent rules and regulations.\n",
    "\n",
    "As a result, all Canadian banks and financial institutions undergo audits periodically in order to satisfy the OSFI's financial regulations and requirements.\n",
    "\n",
    "Furthermore, financial institutions also perform their own internal audits and third party audits to ensure quality control for liquidity management and securitization respectively.\n",
    "\n",
    "However, current audits are solely based on each Auditor's own merits and common sense knowledge/opinions given the nature of banking.\n",
    "\n",
    "For example, an Auditor would check off each criteria in order to satisfy a Bank's own policy for a given Client under a certain product. However, sometimes an exception is made when a Client does not meet all the criteria given circumstances in the real world, but as long as these risks are mitigated while still satisfying the Bank's policy, then the Auditor should continue to check off all the criteria.\n",
    "\n",
    "An example like this is why audit results can vary from a case by case scenario. If the exception that was made above satisfies the Bank's policy 100% of the time, Auditors would still disagree 20% of the time. The reason for this is that Humans can make bias errors and opinion errors from our decision making process, while on the other hand, computers do not make the same bias errors and opinion errors, but instead make different errors which is not comparable to Human errors (ie. understanding jokes, sarcasm, etc).\n",
    "\n",
    "<br>\n",
    "**Business Solution:**\n",
    "<br>\n",
    "<br>\n",
    "To solve this issue, I have created an internal \"Audit Rating System\" that learns and understands a Bank's decision making process for a certain product of a department in order to avoid errors that an Auditor can potentially make 20% of the time.\n",
    "\n",
    "I will perform a Sentiment Analysis with Random Forest Classifier on an entire department's deal notes for a particular product.\n",
    "\n",
    "<u>Note</u>: Deal notes are the key factor here since this is where exceptions for mitigating risks are explained by the bank, and reviewed by the Auditor.\n",
    "\n",
    "I will also identify and display key words that arise in an audit under any variations (ie. 1 word, 2 words, 1-2 words, etc). This feature is useful to see how well the department is performing, and if the performance is meeting the Bank's expectations.\n",
    "\n",
    "<br>\n",
    "**Benefits:**\n",
    "<br>\n",
    "- Develop a Bank's own audit rating system using Machine Learning\n",
    "- Improve the quality of financial products for securitization\n",
    "- Collectively understand an entire department's decision making approach\n",
    "- Anticipate internal/external audits\n",
    "- Ensure risk mitigations are explained in detail in accordance to a Bank's expectations\n",
    "\n",
    "<br>\n",
    "**Robustness:**\n",
    "<br>\n",
    "<br>\n",
    "To ensure the model performs well using new data and does not over-fit the training data, I will implement the following measures:\n",
    "- Split the data between 80% training data, and leave the remaining 20% of data as testing data. The testing data will not be touched until after the model construction is complete\n",
    "- Implement the Random Forest Model which runs the Decision Tree Model repeatedly (this ensures that the model learns the entire department's decision making approach accurately)\n",
    "- Apply cross validation after running the Random Forest Model on the training data to find the best outcome (this further ensures the model learns the entire department's decision making approach, as well as each individual banker's unique decision making approach)\n",
    "\n",
    "<u>Note</u>: Although I will be using real world data from a Bank, however, I will not showcase any relevant information from the actual dataset for privacy protection. Any information shown here will not violate the privacy of the Bank.\n",
    "\n",
    "<br>\n",
    "**Assumptions:**\n",
    "<br>\n",
    "<br>\n",
    "- I have taken data from a department when a new policy was implemented, and assuming 500 dataset is sufficient to capture all banker's decision making approach\n",
    "- There are more Clients declined than approved, however, since the length of deal notes for approvals are significantly longer than length of deal notes for declines, then we're assuming that the longer length in deal notes for approvals will balance out the lesser number of Clients approved\n",
    "\n",
    "<br>\n",
    "**Future:**\n",
    "<br>\n",
    "<br>\n",
    "This model is the first step for implementing an internal \"Audit Rating System\". In the future, I will perform additional models to other datasets for creating an auto approval system and other innovative ways to enhance a Financial Institution's capabilities using Machine Learning and Deep Learning."
   ]
  },
  {
   "cell_type": "markdown",
   "metadata": {},
   "source": [
    "# Data Overview"
   ]
  },
  {
   "cell_type": "code",
   "execution_count": 1,
   "metadata": {},
   "outputs": [
    {
     "data": {
      "text/html": [
       "<div>\n",
       "<style scoped>\n",
       "    .dataframe tbody tr th:only-of-type {\n",
       "        vertical-align: middle;\n",
       "    }\n",
       "\n",
       "    .dataframe tbody tr th {\n",
       "        vertical-align: top;\n",
       "    }\n",
       "\n",
       "    .dataframe thead th {\n",
       "        text-align: right;\n",
       "    }\n",
       "</style>\n",
       "<table border=\"1\" class=\"dataframe\">\n",
       "  <thead>\n",
       "    <tr style=\"text-align: right;\">\n",
       "      <th></th>\n",
       "      <th>Underwriter</th>\n",
       "      <th>Deal Number</th>\n",
       "      <th>Decision</th>\n",
       "      <th>Deal Notes</th>\n",
       "    </tr>\n",
       "  </thead>\n",
       "  <tbody>\n",
       "  </tbody>\n",
       "</table>\n",
       "</div>"
      ],
      "text/plain": [
       "Empty DataFrame\n",
       "Columns: [Underwriter, Deal Number, Decision, Deal Notes]\n",
       "Index: []"
      ]
     },
     "execution_count": 1,
     "metadata": {},
     "output_type": "execute_result"
    }
   ],
   "source": [
    "import pandas as pd\n",
    "csv = (\"audit_rating_banking.csv\")\n",
    "df = pd.read_csv(csv, encoding='latin1') # solves enocding issue when importing csv\n",
    "df.head(0)"
   ]
  },
  {
   "cell_type": "markdown",
   "metadata": {},
   "source": [
    "Here we see that the dataset that we used includes the Banker's name, Deal number, Decision and Deal Notes columns.\n",
    "<br><u>Note</u> that I did not show any data for privacy protection."
   ]
  },
  {
   "cell_type": "code",
   "execution_count": 2,
   "metadata": {},
   "outputs": [
    {
     "data": {
      "text/html": [
       "<div>\n",
       "<style scoped>\n",
       "    .dataframe tbody tr th:only-of-type {\n",
       "        vertical-align: middle;\n",
       "    }\n",
       "\n",
       "    .dataframe tbody tr th {\n",
       "        vertical-align: top;\n",
       "    }\n",
       "\n",
       "    .dataframe thead th {\n",
       "        text-align: right;\n",
       "    }\n",
       "</style>\n",
       "<table border=\"1\" class=\"dataframe\">\n",
       "  <thead>\n",
       "    <tr style=\"text-align: right;\">\n",
       "      <th></th>\n",
       "      <th>Decision</th>\n",
       "      <th>Deal Notes</th>\n",
       "    </tr>\n",
       "  </thead>\n",
       "  <tbody>\n",
       "    <tr>\n",
       "      <th>2</th>\n",
       "      <td>Denied</td>\n",
       "      <td>Unfortunately I will have</td>\n",
       "    </tr>\n",
       "    <tr>\n",
       "      <th>3</th>\n",
       "      <td>Denied</td>\n",
       "      <td>Were going to pass</td>\n",
       "    </tr>\n",
       "    <tr>\n",
       "      <th>4</th>\n",
       "      <td>Approved</td>\n",
       "      <td>Credit: main applicant has</td>\n",
       "    </tr>\n",
       "  </tbody>\n",
       "</table>\n",
       "</div>"
      ],
      "text/plain": [
       "   Decision                  Deal Notes\n",
       "2    Denied   Unfortunately I will have\n",
       "3    Denied          Were going to pass\n",
       "4  Approved  Credit: main applicant has"
      ]
     },
     "execution_count": 2,
     "metadata": {},
     "output_type": "execute_result"
    }
   ],
   "source": [
    "df1 = df.copy()\n",
    "df1[\"Deal Notes\"] = df1[\"Deal Notes\"].apply(lambda x : x.rsplit(maxsplit=len(x.split())-4)[0]) # sets the character limit to 4 words\n",
    "df1.loc[2:4,'Decision':'Deal Notes']"
   ]
  },
  {
   "cell_type": "markdown",
   "metadata": {},
   "source": [
    "I wrote a function showing select data:\n",
    "- We see that under \"Decision\", there are two attributes: Approve and Denied\n",
    "- We also see the \"Deal Notes\" of each Banker's decision making process (only the first 4 words were used for privacy protection, and I also omitted the names of each individual Banker)"
   ]
  },
  {
   "cell_type": "markdown",
   "metadata": {},
   "source": [
    "# Splitting data in Training Set and Testing Set"
   ]
  },
  {
   "cell_type": "markdown",
   "metadata": {},
   "source": [
    "First we need to clean our data to ensure no missing values in our data"
   ]
  },
  {
   "cell_type": "code",
   "execution_count": 3,
   "metadata": {
    "scrolled": true
   },
   "outputs": [
    {
     "name": "stdout",
     "output_type": "stream",
     "text": [
      "Before dropping missing data: 511\n",
      "After dropping missing data: 511\n"
     ]
    }
   ],
   "source": [
    "print(\"Before dropping missing data: {}\".format(len(df)))\n",
    "df = df.dropna(subset=[\"Deal Notes\"])\n",
    "print(\"After dropping missing data: {}\".format(len(df)))"
   ]
  },
  {
   "cell_type": "markdown",
   "metadata": {},
   "source": [
    "Next we will split the data into 80% training data and 20% testing data to avoid over-fitting."
   ]
  },
  {
   "cell_type": "code",
   "execution_count": 4,
   "metadata": {},
   "outputs": [
    {
     "name": "stdout",
     "output_type": "stream",
     "text": [
      "Number of Training Data: 408 \n",
      "Number of Testing Data: 103\n"
     ]
    }
   ],
   "source": [
    "from sklearn.model_selection import StratifiedShuffleSplit\n",
    "split = StratifiedShuffleSplit(n_splits=5, test_size=0.2)\n",
    "for train_index, test_index in split.split(df, df[\"Decision\"]): \n",
    "    strat_train = df.reindex(train_index)\n",
    "    strat_test = df.reindex(test_index)\n",
    "print(\"Number of Training Data: \" + str(len(strat_train)),\n",
    "      \"\\nNumber of Testing Data: \" + str(len(strat_test)))"
   ]
  },
  {
   "cell_type": "code",
   "execution_count": 5,
   "metadata": {},
   "outputs": [
    {
     "data": {
      "image/png": "[encoded data removed]",
      "text/plain": [
       "<Figure size 432x288 with 1 Axes>"
      ]
     },
     "metadata": {},
     "output_type": "display_data"
    },
    {
     "name": "stdout",
     "output_type": "stream",
     "text": [
      "Denied      0.683824\n",
      "Approved    0.316176\n",
      "Name: Decision, dtype: float64\n"
     ]
    },
    {
     "data": {
      "image/png": "[encoded data removed]",
      "text/plain": [
       "<Figure size 432x288 with 1 Axes>"
      ]
     },
     "metadata": {},
     "output_type": "display_data"
    },
    {
     "name": "stdout",
     "output_type": "stream",
     "text": [
      "Denied      0.679612\n",
      "Approved    0.320388\n",
      "Name: Decision, dtype: float64\n"
     ]
    }
   ],
   "source": [
    "import matplotlib.pyplot as plt\n",
    "%matplotlib inline\n",
    "\n",
    "strat_train[\"Decision\"].value_counts()/len(strat_train)\n",
    "a = strat_train[\"Decision\"].value_counts()/len(strat_train)\n",
    "ax = a.plot(kind='bar', title='\\nStratified Splitting Proportions on Training Data')\n",
    "ax.set_xlabel('Decision')\n",
    "ax.set_ylabel('Percentage of total Training Data')\n",
    "plt.show()\n",
    "print(strat_train[\"Decision\"].value_counts()/len(strat_train))\n",
    "\n",
    "\n",
    "strat_test[\"Decision\"].value_counts()/len(strat_test)\n",
    "b = strat_test[\"Decision\"].value_counts()/len(strat_test)\n",
    "bx = b.plot(kind='bar', title='\\n\\nStratified Splitting Proportions on Testing Data')\n",
    "bx.set_xlabel('Decision')\n",
    "bx.set_ylabel('Percentage of total Testing Data')\n",
    "plt.show()\n",
    "print(strat_test[\"Decision\"].value_counts()/len(strat_test))"
   ]
  },
  {
   "cell_type": "markdown",
   "metadata": {},
   "source": [
    "We have successfully split the data into 80% training data and 20% testing data. As shown in the bar graphs and split percentages above, both training set and testing set were split evenly to ensure data were not just split right down the middle."
   ]
  },
  {
   "cell_type": "markdown",
   "metadata": {},
   "source": [
    "# Modeling"
   ]
  },
  {
   "cell_type": "markdown",
   "metadata": {},
   "source": [
    "### Set Target Variable"
   ]
  },
  {
   "cell_type": "code",
   "execution_count": 6,
   "metadata": {},
   "outputs": [],
   "source": [
    "X_train = strat_train[\"Deal Notes\"] # X_train to include Deal Notes only in training set\n",
    "X_train_targetSentiment = strat_train[\"Decision\"] # X_train_targetSentiment to include Decision only in training set\n",
    "\n",
    "X_test = strat_test[\"Deal Notes\"] # X_test to include Deal Notes only in test set\n",
    "X_test_targetSentiment = strat_test[\"Decision\"] # X_test_targetSentiment to include Decision only in test set"
   ]
  },
  {
   "cell_type": "markdown",
   "metadata": {},
   "source": [
    "Data are now assigned and ready for modeling."
   ]
  },
  {
   "cell_type": "markdown",
   "metadata": {},
   "source": [
    "### Extract Features"
   ]
  },
  {
   "cell_type": "markdown",
   "metadata": {},
   "source": [
    "We will use Sci-Learn's **CountVectorizer** to performs the following:\n",
    "- Text preprocessing:\n",
    "    - Tokenization (breaking the sentence into words)\n",
    "    - Remove Stopwords (filtering \"the\", \"are\", etc)\n",
    "- Occurrence counting (builds a dictionary of features from integer indices to word occurrence)\n",
    "- Feature Vector (converts the dictionary of a collection of text documents to a feature vector)\n",
    "\n",
    "\n",
    "Since longer documents will have higher average count values on words that carry very little meaning, this will overshadow shorter documents that have lower average counts with same frequencies, as a result, we will use also use **TfidfTransformer** to reduce this redundancy:\n",
    "- Term Frequencies (**Tf**) divides number of occurrence of each word in a document by total number of words in the document\n",
    "- Term Frequencies times Inverse Document Frequency (**Tfidf**) downscale weights for words that occur in many documents (assigns less value to unimportant stop words ie. \"the\", \"are\", etc)\n",
    "\n",
    "\n",
    "Lastly, we see that in our training set, there are 408 sample size with 3971 distinct words."
   ]
  },
  {
   "cell_type": "code",
   "execution_count": 7,
   "metadata": {},
   "outputs": [
    {
     "name": "stdout",
     "output_type": "stream",
     "text": [
      "Number of samples and number of features using CountVectorizer: (408, 3844)\n",
      "\n",
      "Number of samples and number of features using Tfidf: (408, 3844)\n"
     ]
    }
   ],
   "source": [
    "from sklearn.feature_extraction.text import CountVectorizer\n",
    "count_vect = CountVectorizer()\n",
    "X_train_counts = count_vect.fit_transform(X_train) # transform documents to feature vector (fit and transform)\n",
    "print(\"Number of samples and number of features using CountVectorizer: \" + str(X_train_counts.shape))\n",
    "\n",
    "from sklearn.feature_extraction.text import TfidfTransformer\n",
    "tfidf_transformer = TfidfTransformer(use_idf=False) # disable inverse document frequency reweighting\n",
    "X_train_tfidf = tfidf_transformer.fit_transform(X_train_counts)\n",
    "print(\"\\nNumber of samples and number of features using Tfidf: \" + str(X_train_tfidf.shape))"
   ]
  },
  {
   "cell_type": "markdown",
   "metadata": {},
   "source": [
    "### Feature Pipeline"
   ]
  },
  {
   "cell_type": "markdown",
   "metadata": {},
   "source": [
    "For efficiency, we will create a pipeline to fit_transform the training data as well as transform the testing data."
   ]
  },
  {
   "cell_type": "code",
   "execution_count": 8,
   "metadata": {},
   "outputs": [],
   "source": [
    "from sklearn.pipeline import Pipeline\n",
    "feat_pipe = Pipeline([('count_vect', CountVectorizer()), ('tfidf', TfidfTransformer())])\n",
    "X_train = feat_pipe.fit_transform(X_train) \n",
    "X_test = feat_pipe.transform(X_test)"
   ]
  },
  {
   "cell_type": "markdown",
   "metadata": {},
   "source": [
    "### Making Predictions with Different Classifiers"
   ]
  },
  {
   "cell_type": "markdown",
   "metadata": {},
   "source": [
    "With our features engineered and ready to be used for making predictions, we will perform the following:\n",
    "- Run the features through a variety of classifiers using our training data only \n",
    "- Then use each of these trained classifiers to test the accuracy for making predictions on our testing data"
   ]
  },
  {
   "cell_type": "markdown",
   "metadata": {},
   "source": [
    "**Multinominal Naive Bayes Classifier**"
   ]
  },
  {
   "cell_type": "code",
   "execution_count": 9,
   "metadata": {
    "scrolled": true
   },
   "outputs": [
    {
     "data": {
      "text/plain": [
       "0.9223300970873787"
      ]
     },
     "execution_count": 9,
     "metadata": {},
     "output_type": "execute_result"
    }
   ],
   "source": [
    "import numpy as np\n",
    "from sklearn.naive_bayes import MultinomialNB\n",
    "\n",
    "multiNB_clf = MultinomialNB().fit(X_train, X_train_targetSentiment)\n",
    "predicted_multiNB_clf = multiNB_clf.predict(X_test)\n",
    "np.mean(predicted_multiNB_clf == X_test_targetSentiment)"
   ]
  },
  {
   "cell_type": "markdown",
   "metadata": {},
   "source": [
    "**Logistic Regression Classifier**"
   ]
  },
  {
   "cell_type": "code",
   "execution_count": 10,
   "metadata": {},
   "outputs": [
    {
     "data": {
      "text/plain": [
       "0.970873786407767"
      ]
     },
     "execution_count": 10,
     "metadata": {},
     "output_type": "execute_result"
    }
   ],
   "source": [
    "from sklearn.linear_model import LogisticRegression\n",
    "\n",
    "logReg_clf = LogisticRegression().fit(X_train, X_train_targetSentiment)\n",
    "predicted_logReg_clf = logReg_clf.predict(X_test)\n",
    "np.mean(predicted_logReg_clf == X_test_targetSentiment)"
   ]
  },
  {
   "cell_type": "markdown",
   "metadata": {},
   "source": [
    "**Support Vector Machine Classifier**"
   ]
  },
  {
   "cell_type": "code",
   "execution_count": 11,
   "metadata": {},
   "outputs": [
    {
     "data": {
      "text/plain": [
       "0.9805825242718447"
      ]
     },
     "execution_count": 11,
     "metadata": {},
     "output_type": "execute_result"
    }
   ],
   "source": [
    "from sklearn.svm import LinearSVC\n",
    "\n",
    "linearSVC_clf = LinearSVC().fit(X_train, X_train_targetSentiment)\n",
    "predicted_linearSVC = linearSVC_clf.predict(X_test)\n",
    "np.mean(predicted_linearSVC == X_test_targetSentiment)"
   ]
  },
  {
   "cell_type": "markdown",
   "metadata": {},
   "source": [
    "**Decision Tree Classifier**"
   ]
  },
  {
   "cell_type": "code",
   "execution_count": 12,
   "metadata": {},
   "outputs": [
    {
     "data": {
      "text/plain": [
       "0.8932038834951457"
      ]
     },
     "execution_count": 12,
     "metadata": {},
     "output_type": "execute_result"
    }
   ],
   "source": [
    "from sklearn.tree import DecisionTreeClassifier\n",
    "\n",
    "decisionTree_clf = DecisionTreeClassifier().fit(X_train, X_train_targetSentiment)\n",
    "predicted_decisionTree_clf = decisionTree_clf.predict(X_test)\n",
    "np.mean(predicted_decisionTree_clf == X_test_targetSentiment)"
   ]
  },
  {
   "cell_type": "markdown",
   "metadata": {},
   "source": [
    "**Random Forest Classifier**"
   ]
  },
  {
   "cell_type": "code",
   "execution_count": 13,
   "metadata": {
    "scrolled": true
   },
   "outputs": [
    {
     "data": {
      "text/plain": [
       "0.9902912621359223"
      ]
     },
     "execution_count": 13,
     "metadata": {},
     "output_type": "execute_result"
    }
   ],
   "source": [
    "import warnings\n",
    "warnings.filterwarnings(\"ignore\", category=DeprecationWarning) # hides deprecation warning\n",
    "from sklearn.ensemble import RandomForestClassifier\n",
    "\n",
    "forest_clf = RandomForestClassifier().fit(X_train, X_train_targetSentiment)\n",
    "predicted_forest_clf = forest_clf.predict(X_test)\n",
    "np.mean(predicted_forest_clf == X_test_targetSentiment)"
   ]
  },
  {
   "cell_type": "markdown",
   "metadata": {},
   "source": [
    "Looks like all the models performed very well (>89%), and we will use the **Random Forest Classifier** since it has the higest accuracy level at **99.03%**.\n",
    "<br>Now we will fine tune the Random Forest Classifier to avoid any potential over-fitting."
   ]
  },
  {
   "cell_type": "markdown",
   "metadata": {},
   "source": [
    "### Fine-tune the Random Forest Classifier with Cross Validation"
   ]
  },
  {
   "cell_type": "markdown",
   "metadata": {},
   "source": [
    "Here we will run a **GridSearchCV** function which will optimize all the hyper-parameters on a grid of possible values. This is done by taking all available combinations of hyper-parameters and perform cross validations by splitting the training data into 10 folds, and cross validate each fold against one another for 10 times. These cross validated results are then averaged to produce a generalized score for the fitness of our Random Forest Model and its optimal hyper-parameters.\n",
    "\n",
    "\n",
    "We also indicated 3 **n_estimators** x 4 **max_features** x 1 **bootstrap** x 10 **folds** = 120 trained random forest in our GridSearchCV below.\n",
    "\n",
    "<u>Note</u> that each **n_estimator** hyper-parameter value represents the number of trees trained in the Random Forest, and we set our hyper-parameter as following:\n",
    "<br>(**150 trees** x 4 max_features x 10 folds) + (**200 trees** x 4 max_features x 10 folds) + (**250 trees** x 4 max_features x 10 folds) = 24,000 individual trees trained in our Random Forest Model.\n",
    "\n",
    "In addition, we also optimized the number of CPU core utilization for efficient processing.\n",
    "\n",
    "One key factor for running 24,000 individual trees is to avoid Humans from replicating keywords used to pass the audit, and  have the model learn the entire department's decision making approach instead. Therefore, even if Humans try to replicate certain keywords, the model will be robust enough to filter through those keywords based on its learning."
   ]
  },
  {
   "cell_type": "code",
   "execution_count": 14,
   "metadata": {},
   "outputs": [
    {
     "name": "stdout",
     "output_type": "stream",
     "text": [
      "Fitting 10 folds for each of 12 candidates, totalling 120 fits\n"
     ]
    },
    {
     "name": "stderr",
     "output_type": "stream",
     "text": [
      "[Parallel(n_jobs=-1)]: Done  33 tasks      | elapsed:   12.9s\n",
      "[Parallel(n_jobs=-1)]: Done 120 out of 120 | elapsed:   32.6s finished\n"
     ]
    },
    {
     "data": {
      "text/plain": [
       "GridSearchCV(cv=10, error_score='raise',\n",
       "       estimator=RandomForestClassifier(bootstrap=True, class_weight=None, criterion='gini',\n",
       "            max_depth=None, max_features='auto', max_leaf_nodes=None,\n",
       "            min_impurity_decrease=0.0, min_impurity_split=None,\n",
       "            min_samples_leaf=1, min_samples_split=2,\n",
       "            min_weight_fraction_leaf=0.0, n_estimators=10, n_jobs=1,\n",
       "            oob_score=False, random_state=None, verbose=0,\n",
       "            warm_start=False),\n",
       "       fit_params=None, iid=True, n_jobs=-1,\n",
       "       param_grid=[{'n_estimators': [150, 200, 250], 'max_features': [2, 4, 'log2', 'auto'], 'bootstrap': [False]}],\n",
       "       pre_dispatch='2*n_jobs', refit=True, return_train_score='warn',\n",
       "       scoring=None, verbose=2)"
      ]
     },
     "execution_count": 14,
     "metadata": {},
     "output_type": "execute_result"
    }
   ],
   "source": [
    "from sklearn.model_selection import GridSearchCV\n",
    "param_grid = [\n",
    "    {'n_estimators': [150,200,250], 'max_features': [2, 4, 'log2', 'auto'], 'bootstrap': [False]}\n",
    "]\n",
    "grid_search = GridSearchCV(forest_clf, param_grid, cv=10, verbose=2, n_jobs=-1)\n",
    "grid_search.fit(X_train, X_train_targetSentiment)"
   ]
  },
  {
   "cell_type": "code",
   "execution_count": 15,
   "metadata": {
    "scrolled": true
   },
   "outputs": [
    {
     "data": {
      "text/plain": [
       "RandomForestClassifier(bootstrap=False, class_weight=None, criterion='gini',\n",
       "            max_depth=None, max_features='auto', max_leaf_nodes=None,\n",
       "            min_impurity_decrease=0.0, min_impurity_split=None,\n",
       "            min_samples_leaf=1, min_samples_split=2,\n",
       "            min_weight_fraction_leaf=0.0, n_estimators=250, n_jobs=1,\n",
       "            oob_score=False, random_state=None, verbose=0,\n",
       "            warm_start=False)"
      ]
     },
     "execution_count": 15,
     "metadata": {},
     "output_type": "execute_result"
    }
   ],
   "source": [
    "final_model = grid_search.best_estimator_\n",
    "final_model"
   ]
  },
  {
   "cell_type": "markdown",
   "metadata": {},
   "source": [
    "Now that the fine-tuning is complete, we then select the best estimator from the cross validation results and prepare the final model for testing."
   ]
  },
  {
   "cell_type": "markdown",
   "metadata": {},
   "source": [
    "### Testing the Final Model"
   ]
  },
  {
   "cell_type": "markdown",
   "metadata": {},
   "source": [
    "I have taken any arbitrary text to see if our model is able to predict the quality of Deal Notes to be reviewed by an Auditor.\n",
    "\n",
    "<u>Note</u> that the actual text used is not in our training data or testing data, and the text is actually 300 words long."
   ]
  },
  {
   "cell_type": "code",
   "execution_count": 16,
   "metadata": {},
   "outputs": [
    {
     "data": {
      "text/plain": [
       "Approved    NaN\n",
       "Name: Decision, dtype: object"
      ]
     },
     "execution_count": 16,
     "metadata": {},
     "output_type": "execute_result"
    }
   ],
   "source": [
    "new_text = ['Client is a receptionist at XYZ Inc...']\n",
    "\n",
    "docs_prepared = feat_pipe.transform(new_text)\n",
    "X_train_targetSentiment[final_model.predict(docs_prepared)]"
   ]
  },
  {
   "cell_type": "code",
   "execution_count": 17,
   "metadata": {
    "scrolled": true
   },
   "outputs": [
    {
     "data": {
      "text/plain": [
       "0.970873786407767"
      ]
     },
     "execution_count": 17,
     "metadata": {},
     "output_type": "execute_result"
    }
   ],
   "source": [
    "predictedFinal = final_model.predict(X_test)\n",
    "np.mean(predictedFinal == X_test_targetSentiment)"
   ]
  },
  {
   "cell_type": "markdown",
   "metadata": {},
   "source": [
    "**Results:**\n",
    "- After testing any arbitrary text that is not in our training data or testing data, we see that our final model is performing correctly with Approved result\n",
    "- We also see that the final model has an accuracy level of **97.09%**, which is slightly lower than our pre-fine-tuned model at 99.03% accuracy level\n",
    "- The 1.94% difference shows that the fine-tuning was able to capture some over-fitting and ensure that the model is able to learn the entire department's decision making approach, as well as each individual banker's unique decision making approach"
   ]
  },
  {
   "cell_type": "markdown",
   "metadata": {},
   "source": [
    "# Detailed Analysis"
   ]
  },
  {
   "cell_type": "code",
   "execution_count": 18,
   "metadata": {},
   "outputs": [
    {
     "name": "stdout",
     "output_type": "stream",
     "text": [
      "0.9803921568627451\n",
      "RandomForestClassifier(bootstrap=False, class_weight=None, criterion='gini',\n",
      "            max_depth=None, max_features='auto', max_leaf_nodes=None,\n",
      "            min_impurity_decrease=0.0, min_impurity_split=None,\n",
      "            min_samples_leaf=1, min_samples_split=2,\n",
      "            min_weight_fraction_leaf=0.0, n_estimators=250, n_jobs=1,\n",
      "            oob_score=False, random_state=None, verbose=0,\n",
      "            warm_start=False)\n",
      "{'bootstrap': False, 'max_features': 'auto', 'n_estimators': 250}\n"
     ]
    }
   ],
   "source": [
    "for performance_analysis in (grid_search.best_score_, \n",
    "                             grid_search.best_estimator_, \n",
    "                             grid_search.best_params_):\n",
    "        print(performance_analysis)"
   ]
  },
  {
   "cell_type": "markdown",
   "metadata": {},
   "source": [
    "In our performance analysis, we see the following:\n",
    "- Best Mean Score: 98.04& which is very close to our accuracy level of 97.09%\n",
    "- Best Estimator: shown above\n",
    "- Best Parameter: shows \"250 n_estimators\", \"auto max_features\", and \"bootstrap false\""
   ]
  },
  {
   "cell_type": "code",
   "execution_count": 19,
   "metadata": {
    "scrolled": true
   },
   "outputs": [
    {
     "name": "stdout",
     "output_type": "stream",
     "text": [
      "             precision    recall  f1-score   support\n",
      "\n",
      "   Approved       1.00      0.91      0.95        33\n",
      "     Denied       0.96      1.00      0.98        70\n",
      "\n",
      "avg / total       0.97      0.97      0.97       103\n",
      "\n",
      "Accuracy: 0.970873786407767\n"
     ]
    }
   ],
   "source": [
    "from sklearn.metrics import classification_report\n",
    "from sklearn.metrics import accuracy_score\n",
    "\n",
    "print(classification_report(X_test_targetSentiment, predictedFinal))\n",
    "print('Accuracy: {}'. format(accuracy_score(X_test_targetSentiment, predictedFinal)))"
   ]
  },
  {
   "cell_type": "markdown",
   "metadata": {},
   "source": [
    "Below is the summary of the classification report:\n",
    "- Precision: determines how many objects selected were correct\n",
    "- Recall: tells you how many of the objects that should have been selected were actually selected\n",
    "- F1 score measures the weights of recall and precision (1 means precision and recall are equally important, 0 otherwise)\n",
    "- Support is the number of occurrences of each class (X_test_targetSentiment and X_test)\n",
    "\n",
    "The results in this analysis shows the strong performance of our model for understanding how the department decides if Clients are approved or declined. This is also supported by the strong Precision, Recall, and F1-score. Furthermore, we also tested our model above using arbitrary text  with great results. \n",
    "\n",
    "Also, our assumption above is also validated by our results given that the the longer length in deal notes for approvals will balance out the lesser number of Clients approved.\n",
    "\n",
    "Overall, the Precision, Recall, F1-score, and test results along with our validated assumption confirms the effectiveness of this model."
   ]
  },
  {
   "cell_type": "code",
   "execution_count": 20,
   "metadata": {
    "scrolled": true
   },
   "outputs": [
    {
     "data": {
      "text/plain": [
       "array([[30,  3],\n",
       "       [ 0, 70]], dtype=int64)"
      ]
     },
     "execution_count": 20,
     "metadata": {},
     "output_type": "execute_result"
    }
   ],
   "source": [
    "from sklearn import metrics\n",
    "metrics.confusion_matrix(X_test_targetSentiment, predictedFinal)"
   ]
  },
  {
   "cell_type": "markdown",
   "metadata": {},
   "source": [
    "From the confusion matrix above, we see that our model shows no confusion between approval and declines based on the entire department's decision making approach. The numbers in the matrix is from the total support number which is the number of occurrences of each class in our testing data.\n",
    "\n",
    "Although there is a 2.91% chance (3/(30+70+3)) that our model may confuse an approval with a denial, however this value is very marginal and the model satisfies our goal of creating an \"Audit Rating System\" to avoid the 20% errors that Auditors can potentially make based on bias errors and opinion errors.\n",
    "\n",
    "Therefore, we conclude that our model is able to learn and understand a Bank's decision making process for a certain product of a department in order to avoid errors that an Auditor can potentially make 20% of the time."
   ]
  },
  {
   "cell_type": "markdown",
   "metadata": {},
   "source": [
    "# Text Visualization with Eli5"
   ]
  },
  {
   "cell_type": "markdown",
   "metadata": {},
   "source": [
    "Now that we have completed our model, I would like to take a step further by identifying the keywords that were used in our matrix for determining our Audit Rating System.\n",
    "\n",
    "In order to display the keywords, we will first perform the following:\n",
    "- Reset the target variables\n",
    "- Extract the features again but using a **TfidfVectorizer** hybrid (this is important to work with out Eli5 package)\n",
    "- Perform our Random Forest Classifier once more\n",
    "- Fine-tune our Random Forest Classifier with cross validation once more\n",
    "- Apply the final model with **Eli5** to display the key words for visualization"
   ]
  },
  {
   "cell_type": "markdown",
   "metadata": {},
   "source": [
    "### Set Target Variable"
   ]
  },
  {
   "cell_type": "code",
   "execution_count": 21,
   "metadata": {},
   "outputs": [],
   "source": [
    "X_train = strat_train[\"Deal Notes\"] # X_train to include Deal Notes only in training set\n",
    "X_train_targetSentiment = strat_train[\"Decision\"] # X_train_targetSentiment to include Decision only in training set\n",
    "\n",
    "X_test = strat_test[\"Deal Notes\"] # X_test to include Deal Notes only in test set\n",
    "X_test_targetSentiment = strat_test[\"Decision\"] # X_test_targetSentiment to include Decision only in test set"
   ]
  },
  {
   "cell_type": "markdown",
   "metadata": {},
   "source": [
    "### Extract Features"
   ]
  },
  {
   "cell_type": "code",
   "execution_count": 22,
   "metadata": {},
   "outputs": [],
   "source": [
    "from sklearn.feature_extraction.text import TfidfVectorizer\n",
    "tfidf_vec = TfidfVectorizer(stop_words='english', ngram_range=(1,1)) # display key words that arise in an audit under any variations\n",
    "tfidf_vec.fit(X_train.values.tolist())\n",
    "X_train = tfidf_vec.transform(X_train.values.tolist())\n",
    "X_test = tfidf_vec.transform(X_test.values.tolist())"
   ]
  },
  {
   "cell_type": "markdown",
   "metadata": {},
   "source": [
    "### Perform Random Forest Classifier"
   ]
  },
  {
   "cell_type": "code",
   "execution_count": 23,
   "metadata": {},
   "outputs": [],
   "source": [
    "forest_clf = RandomForestClassifier().fit(X_train, X_train_targetSentiment)"
   ]
  },
  {
   "cell_type": "markdown",
   "metadata": {},
   "source": [
    "### Fine-tune the Random Forest Classifier with Cross Validation"
   ]
  },
  {
   "cell_type": "code",
   "execution_count": 24,
   "metadata": {},
   "outputs": [
    {
     "name": "stdout",
     "output_type": "stream",
     "text": [
      "Fitting 10 folds for each of 12 candidates, totalling 120 fits\n"
     ]
    },
    {
     "name": "stderr",
     "output_type": "stream",
     "text": [
      "[Parallel(n_jobs=-1)]: Done  33 tasks      | elapsed:   13.1s\n",
      "[Parallel(n_jobs=-1)]: Done 120 out of 120 | elapsed:   34.8s finished\n"
     ]
    }
   ],
   "source": [
    "param_grid = [\n",
    "    {'n_estimators': [150,200,250], 'max_features': [2, 4, 'log2', 'auto'], 'bootstrap': [False]}\n",
    "]\n",
    "grid_search = GridSearchCV(forest_clf, param_grid, cv=10, verbose=2, n_jobs=-1)\n",
    "grid_search.fit(X_train, X_train_targetSentiment)\n",
    "final_model = grid_search.best_estimator_"
   ]
  },
  {
   "cell_type": "markdown",
   "metadata": {},
   "source": [
    "### Displaying Text Visualization"
   ]
  },
  {
   "cell_type": "code",
   "execution_count": 25,
   "metadata": {
    "scrolled": false
   },
   "outputs": [
    {
     "data": {
      "text/html": [
       "\n",
       "    <style>\n",
       "    table.eli5-weights tr:hover {\n",
       "        filter: brightness(85%);\n",
       "    }\n",
       "</style>\n",
       "\n",
       "\n",
       "\n",
       "    \n",
       "\n",
       "    \n",
       "\n",
       "    \n",
       "\n",
       "    \n",
       "\n",
       "    \n",
       "\n",
       "    \n",
       "\n",
       "\n",
       "    \n",
       "\n",
       "    \n",
       "\n",
       "    \n",
       "\n",
       "    \n",
       "\n",
       "    \n",
       "\n",
       "    \n",
       "\n",
       "\n",
       "    \n",
       "\n",
       "    \n",
       "\n",
       "    \n",
       "\n",
       "    \n",
       "\n",
       "    \n",
       "        <table class=\"eli5-weights eli5-feature-importances\" style=\"border-collapse: collapse; border: none; margin-top: 0em; table-layout: auto;\">\n",
       "    <thead>\n",
       "    <tr style=\"border: none;\">\n",
       "        <th style=\"padding: 0 1em 0 0.5em; text-align: right; border: none;\">Weight</th>\n",
       "        <th style=\"padding: 0 0.5em 0 0.5em; text-align: left; border: none;\">Feature</th>\n",
       "    </tr>\n",
       "    </thead>\n",
       "    <tbody>\n",
       "    \n",
       "        <tr style=\"background-color: hsl(120, 100.00%, 80.00%); border: none;\">\n",
       "            <td style=\"padding: 0 1em 0 0.5em; text-align: right; border: none;\">\n",
       "                0.0467\n",
       "                \n",
       "                    &plusmn; 0.2104\n",
       "                \n",
       "            </td>\n",
       "            <td style=\"padding: 0 0.5em 0 0.5em; text-align: left; border: none;\">\n",
       "                good\n",
       "            </td>\n",
       "        </tr>\n",
       "    \n",
       "        <tr style=\"background-color: hsl(120, 100.00%, 84.38%); border: none;\">\n",
       "            <td style=\"padding: 0 1em 0 0.5em; text-align: right; border: none;\">\n",
       "                0.0328\n",
       "                \n",
       "                    &plusmn; 0.1575\n",
       "                \n",
       "            </td>\n",
       "            <td style=\"padding: 0 0.5em 0 0.5em; text-align: left; border: none;\">\n",
       "                savings\n",
       "            </td>\n",
       "        </tr>\n",
       "    \n",
       "        <tr style=\"background-color: hsl(120, 100.00%, 88.03%); border: none;\">\n",
       "            <td style=\"padding: 0 1em 0 0.5em; text-align: right; border: none;\">\n",
       "                0.0224\n",
       "                \n",
       "                    &plusmn; 0.1135\n",
       "                \n",
       "            </td>\n",
       "            <td style=\"padding: 0 0.5em 0 0.5em; text-align: left; border: none;\">\n",
       "                asap\n",
       "            </td>\n",
       "        </tr>\n",
       "    \n",
       "    \n",
       "        \n",
       "            <tr style=\"background-color: hsl(120, 100.00%, 88.03%); border: none;\">\n",
       "                <td colspan=\"2\" style=\"padding: 0 0.5em 0 0.5em; text-align: center; border: none; white-space: nowrap;\">\n",
       "                    <i>&hellip; 3614 more &hellip;</i>\n",
       "                </td>\n",
       "            </tr>\n",
       "        \n",
       "    \n",
       "    </tbody>\n",
       "</table>\n",
       "    \n",
       "\n",
       "    \n",
       "\n",
       "\n",
       "    \n",
       "\n",
       "    \n",
       "\n",
       "    \n",
       "\n",
       "    \n",
       "\n",
       "    \n",
       "\n",
       "    \n",
       "\n",
       "\n",
       "\n"
      ],
      "text/plain": [
       "<IPython.core.display.HTML object>"
      ]
     },
     "execution_count": 25,
     "metadata": {},
     "output_type": "execute_result"
    }
   ],
   "source": [
    "import eli5\n",
    "eli5.show_weights(final_model, vec=tfidf_vec, top=3)"
   ]
  },
  {
   "cell_type": "markdown",
   "metadata": {},
   "source": [
    "Using the Eli5 package, we can show all the key words and their respective weights that impacts the model's ability to learn the department's decision making approach. \n",
    "\n",
    "This is usefully in evaluating how well the department is performing, and if the performance is meeting the Bank's expectations for audits.\n",
    "\n",
    "Also, the model is robust enough from our cross validation fine-tuning that, even if Humans try to replicate certain keywords, the model will not rely solely on those keywords, but instead on the entirety of its learning.\n",
    "\n",
    "<u>Note</u>: \n",
    "- Under the extract features section where we implemented \"TfidfVectorizer\", we can adjust the \"ngram_range\" parameter to show any variation of keywords and sentences (ie. 1 word, 2 words, 1-2 words, 3-10 words sentence, 6 words sentence, etc)\n",
    "- We can also adjust the \"top\" parameter in \"eli5.show_weights\" and assign it to \"top = 3614\" to view all the keywords and the weights of the keywords in the entire data set\n",
    "\n",
    "\n",
    "For privacy protection, I only displayed keywords in 1-gram while showing only the first 3 results."
   ]
  },
  {
   "cell_type": "markdown",
   "metadata": {},
   "source": [
    "# Answering the Questions"
   ]
  },
  {
   "cell_type": "markdown",
   "metadata": {},
   "source": [
    "From the analysis above in the classification report, we see that the model is able to perform as an \"Internal Audit System\" for understanding the department's decision making approach on Client approvals and denials. With this knowledge, we use our model to avoid the 20% errors that Auditors can potentially make based on bias errors and opinion errors.\n",
    "\n",
    "Also, we solidified the model by taking various steps to avoid biasness and over-fitting. This was done by splitting the data between training data and testing data, performing Random Forest Classifier, and implementing cross validation on the Random Forest Classifier to ensure the robustness of our model, such that, even if Humans try to replicate certain keywords, the model will not rely solely on those keywords, but instead on the entirety of its learning.\n",
    "\n",
    "As result, we tested the model on an arbitrary text data and showed strong performance in predicting results using the department's decision making approach.\n",
    "\n",
    "Furthermore, we used Eli5 to determine keywords and key sentences along with their respective weights that impacts the model's ability to learn the department's decision making approach. This is especially usefully in evaluating how well the department is performing, and if the performance is meeting the Bank's expectations for audits.\n",
    "\n",
    "Lastly, based on our modeling, the robustness of our model, our test results, and our text visualization,  we conclude that our model is able to learn and understand a Bank's decision making process for a certain product of a department in order to avoid errors that an Auditor can potentially make 20% of the time."
   ]
  }
 ],
 "metadata": {
  "kernelspec": {
   "display_name": "Python 3",
   "language": "python",
   "name": "python3"
  },
  "language_info": {
   "codemirror_mode": {
    "name": "ipython",
    "version": 3
   },
   "file_extension": ".py",
   "mimetype": "text/x-python",
   "name": "python",
   "nbconvert_exporter": "python",
   "pygments_lexer": "ipython3",
   "version": "3.6.5"
  },
  "toc": {
   "base_numbering": 1,
   "nav_menu": {},
   "number_sections": true,
   "sideBar": false,
   "skip_h1_title": false,
   "title_cell": "Table of Contents",
   "title_sidebar": "Contents",
   "toc_cell": false,
   "toc_position": {
    "height": "337px",
    "left": "1100.99px",
    "top": "76.1506px",
    "width": "187px"
   },
   "toc_section_display": false,
   "toc_window_display": true
  }
 },
 "nbformat": 4,
 "nbformat_minor": 2
}
